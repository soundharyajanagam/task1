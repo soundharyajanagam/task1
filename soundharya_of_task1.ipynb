{
  "nbformat": 4,
  "nbformat_minor": 0,
  "metadata": {
    "colab": {
      "provenance": [],
      "include_colab_link": true
    },
    "kernelspec": {
      "name": "python3",
      "display_name": "Python 3"
    },
    "language_info": {
      "name": "python"
    }
  },
  "cells": [
    {
      "cell_type": "markdown",
      "metadata": {
        "id": "view-in-github",
        "colab_type": "text"
      },
      "source": [
        "<a href=\"https://colab.research.google.com/github/soundharyajanagam/task1/blob/main/soundharya_of_task1.ipynb\" target=\"_parent\"><img src=\"https://colab.research.google.com/assets/colab-badge.svg\" alt=\"Open In Colab\"/></a>"
      ]
    },
    {
      "cell_type": "markdown",
      "source": [
        "#How do I randomly select rows from NumPy array?\n",
        "\n",
        "create an array of 50 and reshape it into 5 rows and 10 columns\n",
        "\n"
      ],
      "metadata": {
        "id": "MLFjUYQ-gbPz"
      }
    },
    {
      "cell_type": "code",
      "execution_count": 5,
      "metadata": {
        "id": "I_cvz9Qof84o",
        "colab": {
          "base_uri": "https://localhost:8080/"
        },
        "outputId": "346a2f31-6627-4f30-933a-108a46bdf955"
      },
      "outputs": [
        {
          "output_type": "stream",
          "name": "stdout",
          "text": [
            "[[ 0  1  2  3  4  5  6  7  8  9]\n",
            " [10 11 12 13 14 15 16 17 18 19]\n",
            " [20 21 22 23 24 25 26 27 28 29]\n",
            " [30 31 32 33 34 35 36 37 38 39]\n",
            " [40 41 42 43 44 45 46 47 48 49]]\n"
          ]
        }
      ],
      "source": [
        "import numpy as np\n",
        "ar = np.arange(0,50)\n",
        "rsp = ar.reshape(5,10)\n",
        "print(rsp)"
      ]
    },
    {
      "cell_type": "code",
      "source": [],
      "metadata": {
        "id": "Oh3prJzUg4uu"
      },
      "execution_count": null,
      "outputs": []
    },
    {
      "cell_type": "markdown",
      "source": [
        "#Convert Numpy array to JSON\n",
        "\n",
        "Array to JSON"
      ],
      "metadata": {
        "id": "X9o0CmhFg3Gv"
      }
    },
    {
      "cell_type": "code",
      "source": [
        "import numpy as np\n",
        "import json\n",
        "arr = np.array([2,5,7,9,11,13])\n",
        "arr_lst = arr.tolist()\n",
        "jsonar = json.dumps(arr_lst)\n",
        "print(jsonar)"
      ],
      "metadata": {
        "id": "QVBmsQGhg-Ah",
        "colab": {
          "base_uri": "https://localhost:8080/"
        },
        "outputId": "9b1d10b7-5a55-4874-95f9-185cd94a4d27"
      },
      "execution_count": 8,
      "outputs": [
        {
          "output_type": "stream",
          "name": "stdout",
          "text": [
            "[2, 5, 7, 9, 11, 13]\n"
          ]
        }
      ]
    },
    {
      "cell_type": "code",
      "source": [],
      "metadata": {
        "id": "cLbw6qwXg-bV"
      },
      "execution_count": null,
      "outputs": []
    },
    {
      "cell_type": "markdown",
      "source": [
        "#How do you replace items that satisfy a condition with another value in Numpy array?\n",
        "\n",
        "Replace all elements which are greater than 30 to 0\n",
        "\n",
        "input:- [49, 7, 44, 27, 13, 35, 71]"
      ],
      "metadata": {
        "id": "ciyvUsVdg-7Q"
      }
    },
    {
      "cell_type": "code",
      "source": [
        "arr = np.array([49,7,44,27,13,35,71])\n",
        "print(arr>30)"
      ],
      "metadata": {
        "id": "geP-DwUMhNfJ",
        "colab": {
          "base_uri": "https://localhost:8080/"
        },
        "outputId": "c3b67d92-b955-48e1-97fc-69c68b029bcd"
      },
      "execution_count": 6,
      "outputs": [
        {
          "output_type": "stream",
          "name": "stdout",
          "text": [
            "[ True False  True False False  True  True]\n"
          ]
        }
      ]
    },
    {
      "cell_type": "code",
      "source": [],
      "metadata": {
        "id": "PsUHsfxWhNtt"
      },
      "execution_count": null,
      "outputs": []
    },
    {
      "cell_type": "markdown",
      "source": [
        "#How to count frequency of unique values in a NumPy array in Python?\n",
        "\n",
        "Find number of times a value appears in the list\n",
        "\n",
        "sample input:- [9, 7, 4, 7, 3, 5, 9]"
      ],
      "metadata": {
        "id": "_iy4dz-2hOLf"
      }
    },
    {
      "cell_type": "code",
      "source": [
        "import numpy as np\n",
        "\n",
        "arr = np.array([9, 7, 4, 7, 3, 5, 9])\n",
        "\n",
        "uniq_val, counts = np.unique(arr, return_counts=True)\n",
        "\n",
        "freqny = dict(zip(uniq_val, counts))\n",
        "\n",
        "print(freqny)"
      ],
      "metadata": {
        "id": "GkdtUHIKheUy",
        "colab": {
          "base_uri": "https://localhost:8080/"
        },
        "outputId": "0c9094c4-717e-435c-8d0e-a09f3f4306ef"
      },
      "execution_count": 9,
      "outputs": [
        {
          "output_type": "stream",
          "name": "stdout",
          "text": [
            "{3: 1, 4: 1, 5: 1, 7: 2, 9: 2}\n"
          ]
        }
      ]
    },
    {
      "cell_type": "code",
      "source": [
        "num = [9,7,4,7,3,5,9]\n",
        "val = 7\n",
        "count = num.count(val)\n",
        "print(count)"
      ],
      "metadata": {
        "id": "qc53JTyehep1",
        "colab": {
          "base_uri": "https://localhost:8080/"
        },
        "outputId": "b5359c8c-d736-48f3-ff85-0258fa25db1c"
      },
      "execution_count": 14,
      "outputs": [
        {
          "output_type": "stream",
          "name": "stdout",
          "text": [
            "2\n"
          ]
        }
      ]
    },
    {
      "cell_type": "markdown",
      "source": [
        "#read the data from the group\n",
        "\n",
        "explore the data\n",
        "\n",
        "1. check for null values\n",
        "2. check for duplicate values\n",
        "3. check for dtype corrections\n",
        "4. rename the columns date and time with \"Date\"  and \"Time\n",
        "5. By Using the iloc print 0:5 rows and 1,3,5 column indexes\n",
        "6. convert df[\"stop_datetime\"] to to_datetime format"
      ],
      "metadata": {
        "id": "__FWFTXih_dt"
      }
    },
    {
      "cell_type": "code",
      "source": [],
      "metadata": {
        "id": "B7eTyBF4h2TN"
      },
      "execution_count": null,
      "outputs": []
    }
  ]
}